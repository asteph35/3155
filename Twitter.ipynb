{
  "nbformat": 4,
  "nbformat_minor": 0,
  "metadata": {
    "colab": {
      "name": "Twitter.ipynb",
      "provenance": [],
      "collapsed_sections": []
    },
    "kernelspec": {
      "name": "python3",
      "display_name": "Python 3"
    }
  },
  "cells": [
    {
      "cell_type": "code",
      "metadata": {
        "id": "w8PX_-Ec5E51",
        "colab_type": "code",
        "colab": {}
      },
      "source": [
        "pip install gensim"
      ],
      "execution_count": 0,
      "outputs": []
    },
    {
      "cell_type": "code",
      "metadata": {
        "id": "CeYYEzMw5zZx",
        "colab_type": "code",
        "colab": {}
      },
      "source": [
        "pip install chart-studio"
      ],
      "execution_count": 0,
      "outputs": []
    },
    {
      "cell_type": "code",
      "metadata": {
        "id": "3f7pKGQ052NN",
        "colab_type": "code",
        "colab": {}
      },
      "source": [
        "pip install plotly"
      ],
      "execution_count": 0,
      "outputs": []
    },
    {
      "cell_type": "code",
      "metadata": {
        "id": "2ykiSuFp54rB",
        "colab_type": "code",
        "colab": {}
      },
      "source": [
        "pip install pyLDAvis"
      ],
      "execution_count": 0,
      "outputs": []
    },
    {
      "cell_type": "code",
      "metadata": {
        "id": "o1xDclwg57eS",
        "colab_type": "code",
        "colab": {}
      },
      "source": [
        "pip install nltk\n"
      ],
      "execution_count": 0,
      "outputs": []
    },
    {
      "cell_type": "code",
      "metadata": {
        "id": "uzFt7Vtv6Hc2",
        "colab_type": "code",
        "colab": {}
      },
      "source": [
        "import numpy as np\n",
        "import pandas as pd\n",
        "import re\n",
        "import nltk\n",
        "\n",
        "#plotly\n",
        "from plotly import __version__\n",
        "from plotly.offline import download_plotlyjs, init_notebook_mode, plot, iplot\n",
        "from chart_studio.grid_objs import Grid, Column\n",
        "import plotly.graph_objs as go\n",
        "import chart_studio.plotly as py\n",
        "from plotly import tools\n",
        "init_notebook_mode(connected = True)\n",
        "\n",
        "#LDA\n",
        "import pyLDAvis\n",
        "import pyLDAvis.gensim\n",
        "nltk.download('stopwords')\n",
        "from nltk.corpus import stopwords\n",
        "stop = stopwords.words('english')\n",
        "pyLDAvis.enable_notebook()\n",
        "from gensim import corpora,models\n",
        "\n",
        "from scipy import stats\n",
        "\n",
        "import warnings\n",
        "warnings.filterwarnings('ignore')\n",
        "import plotly.offline as pyo\n",
        "pyo.init_notebook_mode()\n",
        "\n",
        "\n",
        "twitter_tweets = pd.read_csv('tweets.csv', error_bad_lines= False)\n",
        "fake__users = pd.read_csv('users.csv')\n",
        "tweets_details = pd.read_csv('tweetdetails.csv',error_bad_lines= False)\n",
        "\n",
        "fake__users['Date'] = pd.to_datetime(fake__users['created_at'])\n",
        "fake__users = fake__users[pd.notnull(fake__users['created_at'])]\n",
        "fake__users = fake__users.drop_duplicates(subset=['id'])\n",
        "fake__users['Date'] = fake__users['Date'].apply(lambda x: x.strftime('%Y-%m'))\n",
        "\n",
        "u_name = pd.DataFrame(fake__users.name.str.split(' ',1).tolist(), columns = ['first','last'])\n",
        "\n",
        "user_name = u_name.groupby('first', as_index=False).size().reset_index(name='counts')\n",
        "\n",
        "users_name = user_name.sort_values('counts', ascending=False).head(20)\n",
        "\n",
        "\n",
        "#bar plot\n",
        "\n",
        "#first names\n",
        "first_name = u_name.groupby('first', as_index=False).size().reset_index(name='counts')\n",
        "first_name = first_name.sort_values('counts', ascending=False).head(20)\n",
        "df = go.Bar(\n",
        "    x = first_name['counts'],\n",
        "    y = first_name['first'],\n",
        "    orientation = 'h',\n",
        "    name = 'First Name'\n",
        ")\n",
        "\n",
        "#Last names\n",
        "last_name = u_name.groupby('last', as_index=False).size().reset_index(name='counts')\n",
        "last_name = last_name.sort_values('counts',ascending=False).head(20)\n",
        "df1 = go.Bar(\n",
        "    x=last_name ['counts'],\n",
        "    y=last_name ['last'],\n",
        "    orientation = 'h',\n",
        "    name = 'Last Name'\n",
        ")\n",
        "fig = tools.make_subplots(rows=1, cols=2, subplot_titles=('First Name','Last Name'))\n",
        "fig.append_trace(df,1,1)\n",
        "fig.append_trace(df1,1,2)\n",
        "fig['layout'].update(height=400, width = 1000, title='First and Last Names of Fake Accounts')\n",
        "plot(fig, filename='basic-line')\n",
        "\n",
        "#remove the sepcial characters\n",
        "des = fake__users.description.copy().astype(str)\n",
        "des = des.str.replace('[^\\w\\s}]','')\n",
        "des = des.str.replace('[\\\\r|\\\\n\\\\t|_]','')\n",
        "des = des.str.strip()\n",
        "\n",
        "tweets_des = tweets_details.copy()\n",
        "tweets_des.des = des\n",
        "tweets_des.des = tweets_des.des.apply(lambda x: ' '.join([word for word in x.split() if word.lower() not in (stop)]))\n",
        "\n",
        "#convert sample documents into a list\n",
        "doc_set = tweets_des.des.values.copy()\n",
        "#loop through the document list\n",
        "texts = [text.split(' ') for text in doc_set]\n",
        "#turn our tokenized documents into an id <->  term dictionary\n",
        "dictionary = corpora.Dictionary(texts)\n",
        "#convert tokenized documents into a document-term matrix\n",
        "corp = [dictionary.doc2bow(text) for text in texts]\n",
        "#generate LDA model\n",
        "ldamodel = models.ldamodel.LdaModel(corp, num_topics=30, id2word = dictionary)\n",
        "\n",
        "df3 = pyLDAvis.gensim.prepare(ldamodel, corp, dictionary)\n",
        "df3\n",
        "\n",
        "#group by Date, create a count and sort\n",
        "users = fake__users.groupby('Date', as_index = False).size().reset_index(name = 'counts')\n",
        "userssum = users.sort_values('Date')\n",
        "\n",
        "\n",
        "trace0 = go.Bar(name = \"Accounts Created Over Time\", x = userssum.Date, y = userssum.counts)\n",
        "data = ([trace0])\n",
        "\n",
        "layout = go.Layout(\n",
        "    title = \"Accounts created 2009-2017\",\n",
        "    yaxis = dict(\n",
        "        title = 'no. of Accounts created',\n",
        "        range = [0,100],\n",
        "        titlefont=dict(\n",
        "            size=20,\n",
        "        )\n",
        "    ),\n",
        "    \n",
        "    xaxis = dict(\n",
        "        title = 'Year',\n",
        "        range = ['2009-01','2017-1'],\n",
        "        titlefont=dict(\n",
        "            size=20,\n",
        "        )\n",
        "    )\n",
        ")\n",
        "\n",
        "fig = go.Figure(data=data, layout=layout)\n",
        "fig['layout'].update()\n",
        "plot(fig)\n",
        "\n",
        "\n",
        "# heat map showing the days and hours of users\n",
        "m = pd.pivot_table(tweets_details, values = 'user_key', index = 'created_strDayofweek', columns = 'created_strMonth', aggfunc = len, fill_value=0, dropna=False)\n",
        "z=m.as_matrix()\n",
        "\n",
        "trace = go.Heatmap(z=z,\n",
        "                x=[i for i in np.arange(0,24)],\n",
        "                y=['Sunday', 'Monday', 'Tuesday','Wednesday', 'Thursday', 'Friday', 'Saturday'],\n",
        "                colorscale = 'Jet'\n",
        "               )\n",
        "\n",
        "layout = go.Layout(\n",
        "  title = 'No. of Tweets Per Day Per Month',\n",
        "  xaxis=dict(\n",
        "      nticks=24,\n",
        "      title = 'Month',\n",
        "      titlefont = dict(\n",
        "      size=20)),\n",
        "\n",
        "  yaxis = dict(\n",
        "  ),\n",
        "\n",
        ")\n",
        "data = [trace]\n",
        "fig = go.Figure(data=data,layout=layout)\n",
        "fig['layout'].update()\n",
        "plot(fig,filename='tweets.html')\n",
        "\n",
        "\n",
        "\n",
        "\n",
        "\n",
        "\n",
        "\n",
        "\n",
        "\n",
        "\n",
        "\n",
        "\n",
        "\n",
        "  \n",
        "  \n",
        "\n",
        "\n",
        "\n",
        "\n",
        "\n",
        "\n"
      ],
      "execution_count": 0,
      "outputs": []
    },
    {
      "cell_type": "code",
      "metadata": {
        "id": "GxNjbOqo9bWG",
        "colab_type": "code",
        "colab": {
          "base_uri": "https://localhost:8080/",
          "height": 368
        },
        "outputId": "46236402-2add-408d-949d-964ec33b01b2"
      },
      "source": [
        "\n",
        "import pandas as pd\n",
        "\n",
        "\n",
        "\n",
        "twitter_tweets = pd.read_csv('tweets.csv', error_bad_lines= False)\n",
        "\n",
        "#sort csv by highest number of retweet counts\n",
        "highestrt = twitter_tweets.sort_values(by = ['retweet_count'], ascending = False)\n",
        "\n",
        "#Dataframe will only be the top ten\n",
        "df = highestrt.head(10)\n",
        "\n",
        "#plot the bar chart using user key as the x value and retweet count as the y value\n",
        "df.plot.bar(x = 'user_key', y = ['retweet_count'])"
      ],
      "execution_count": 7,
      "outputs": [
        {
          "output_type": "execute_result",
          "data": {
            "text/plain": [
              "<matplotlib.axes._subplots.AxesSubplot at 0x7fc868843cc0>"
            ]
          },
          "metadata": {
            "tags": []
          },
          "execution_count": 7
        },
        {
          "output_type": "display_data",
          "data": {
            "image/png": "[encoded data removed]",
            "text/plain": [
              "<Figure size 432x288 with 1 Axes>"
            ]
          },
          "metadata": {
            "tags": []
          }
        }
      ]
    }
  ]
}